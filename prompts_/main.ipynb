{
 "cells": [
  {
   "cell_type": "code",
   "execution_count": 3,
   "metadata": {},
   "outputs": [],
   "source": [
    "import sys\n",
    "sys.path.append('..')\n",
    "from config import OPENAI_API_KEY\n",
    "from test_prompt import test_questions, generate_my_prompt, get_answers_for_my_prompt, run_cypher\n",
    "\n",
    "my_prompt = generate_my_prompt(test_questions)\n",
    "# print(test_questions)\n",
    "# print(my_prompt)"
   ]
  },
  {
   "cell_type": "code",
   "execution_count": 4,
   "metadata": {},
   "outputs": [
    {
     "name": "stdout",
     "output_type": "stream",
     "text": [
      "cypher: MATCH(a:Article)WHERE a.pubdate=2022 RETURN COUNT(a)\n",
      "[{'COUNT(a)': 17974}]\n"
     ]
    }
   ],
   "source": [
    "question = 'how many articles are published in 2022'\n",
    "\n",
    "cypher = get_answers_for_my_prompt(my_prompt, [{'q': question}])[0]\n",
    "print(f'cypher: {cypher}')\n",
    "result = run_cypher(cypher)\n",
    "print(result)"
   ]
  }
 ],
 "metadata": {
  "kernelspec": {
   "display_name": "Python 3",
   "language": "python",
   "name": "python3"
  },
  "language_info": {
   "codemirror_mode": {
    "name": "ipython",
    "version": 3
   },
   "file_extension": ".py",
   "mimetype": "text/x-python",
   "name": "python",
   "nbconvert_exporter": "python",
   "pygments_lexer": "ipython3",
   "version": "3.9.12"
  }
 },
 "nbformat": 4,
 "nbformat_minor": 2
}
